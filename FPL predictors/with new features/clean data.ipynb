{
 "cells": [
  {
   "cell_type": "code",
   "execution_count": 38,
   "metadata": {},
   "outputs": [],
   "source": [
    "%run ./clean_data_utils.ipynb"
   ]
  },
  {
   "cell_type": "markdown",
   "metadata": {},
   "source": [
    "### Merge FPL and Understat data\n"
   ]
  },
  {
   "cell_type": "code",
   "execution_count": 58,
   "metadata": {},
   "outputs": [
    {
     "name": "stdout",
     "output_type": "stream",
     "text": [
      "successfully cleaned 2022-23 fpl data\n",
      "successfully cleaned understat 2022-23 data\n",
      "2022-23 fpl and understat data now in `joint` folder\n",
      "successfully cleaned 2023-24 fpl data\n",
      "successfully cleaned understat 2023-24 data\n",
      "2023-24 fpl and understat data now in `joint` folder\n"
     ]
    }
   ],
   "source": [
    "merge_fpl_understat_data(\"./data/vaastav/data/2022-23/players/\", \"./data/vaastav/data/2022-23/understat/\", \"22-23\")\n",
    "merge_fpl_understat_data(\"./data/vaastav/data/2023-24/players/\", \"./data/vaastav/data/2023-24/understat/\", \"23-24\")"
   ]
  },
  {
   "cell_type": "markdown",
   "metadata": {},
   "source": [
    "### Adding fixture difficulty\n"
   ]
  },
  {
   "cell_type": "code",
   "execution_count": 59,
   "metadata": {},
   "outputs": [
    {
     "name": "stdout",
     "output_type": "stream",
     "text": [
      "====> Starting to add difficulty features to 2022-23\n",
      "====> Starting to add difficulty features to 2023-24\n"
     ]
    }
   ],
   "source": [
    "add_difficulty('22-23')\n",
    "add_difficulty('23-24')"
   ]
  },
  {
   "cell_type": "markdown",
   "metadata": {},
   "source": [
    "### Add Expected points\n"
   ]
  },
  {
   "cell_type": "code",
   "execution_count": 60,
   "metadata": {},
   "outputs": [
    {
     "name": "stdout",
     "output_type": "stream",
     "text": [
      "================> starting to add xp for season 2022-23\n",
      "================> starting to add xp for season 2023-24\n"
     ]
    }
   ],
   "source": [
    "add_xP('22-23')\n",
    "add_xP('23-24')"
   ]
  },
  {
   "cell_type": "markdown",
   "metadata": {},
   "source": [
    "### Add rolling averages\n"
   ]
  },
  {
   "cell_type": "code",
   "execution_count": 61,
   "metadata": {},
   "outputs": [
    {
     "name": "stdout",
     "output_type": "stream",
     "text": [
      "================> starting to roll by 3 for season 2022-23\n",
      "================> starting to roll by 5 for  season 2022-23\n",
      "<<<<================ Done rolling season 2022-23\n",
      "================> starting to roll by 3 for season 2023-24\n",
      "================> starting to roll by 5 for  season 2023-24\n",
      "<<<<================ Done rolling season 2023-24\n"
     ]
    }
   ],
   "source": [
    "add_rolling_avgs('22-23')\n",
    "add_rolling_avgs('23-24')"
   ]
  },
  {
   "cell_type": "markdown",
   "metadata": {},
   "source": [
    "### Add odds\n"
   ]
  },
  {
   "cell_type": "code",
   "execution_count": 62,
   "metadata": {},
   "outputs": [
    {
     "name": "stdout",
     "output_type": "stream",
     "text": [
      "================> starting adding odds for sns 2022-23\n",
      "================> starting adding odds for sns 2023-24\n"
     ]
    }
   ],
   "source": [
    "odds('22-23')\n",
    "odds('23-24')"
   ]
  },
  {
   "cell_type": "markdown",
   "metadata": {},
   "source": [
    "### Merge seasons data\n"
   ]
  },
  {
   "cell_type": "code",
   "execution_count": 63,
   "metadata": {},
   "outputs": [
    {
     "name": "stdout",
     "output_type": "stream",
     "text": [
      "starting to merge files for 2022-23\n",
      "543\n",
      "starting to merge files for 2023-24\n",
      "558\n"
     ]
    }
   ],
   "source": [
    "merge_files('22-23')\n",
    "merge_files('23-24')"
   ]
  },
  {
   "cell_type": "markdown",
   "metadata": {},
   "source": [
    "### Current season cleaning\n"
   ]
  },
  {
   "cell_type": "code",
   "execution_count": 39,
   "metadata": {},
   "outputs": [],
   "source": [
    "import csv\n",
    "cleaned_rows = []\n",
    "# input_file = './data/2024-25/gws/merged_gw.csv'  # Replace with your actual file\n",
    "expected_columns = 42  # Replace with the correct number of columns\n",
    "\n",
    "\n",
    "with open('./data/2024-25/gws/merged_gw.csv', \"r\", encoding=\"utf-8\") as fin:\n",
    "    reader = csv.reader(fin)\n",
    "    header = next(reader) # Store header row\n",
    "    min_index = header.index('minutes') # Find index of 'minutes' column which is the column before extra columns are added\n",
    "\n",
    "    # indices to drop\n",
    "    drop = [min_index+i for i in range(1, 8)]\n",
    "\n",
    "    for row in reader:\n",
    "\n",
    "        if len(row) != expected_columns:  # Check column count\n",
    "            cleaned_rows.append(list(np.delete(row, drop)))\n",
    "        else:\n",
    "            cleaned_rows.append(row)\n",
    "cleaned_df = pd.DataFrame(cleaned_rows, columns=header)\n",
    "cleaned_df.to_csv('./data/2024-25/gws/merged_gw.csv', index=False)\n"
   ]
  },
  {
   "cell_type": "code",
   "execution_count": 47,
   "metadata": {},
   "outputs": [
    {
     "name": "stdout",
     "output_type": "stream",
     "text": [
      " successfully cleaned 2024-25 fpl data\n",
      "successfully cleaned understat 2024-25 data\n",
      "2024-25 fpl and understat data now in `joint` folder\n",
      "====> Starting to add difficulty features to 2024-25\n",
      "================> starting to add xp for season 2024-25\n",
      "================> starting to roll by 3 for season 2024-25\n",
      "================> starting to roll by 5 for  season 2024-25\n",
      "<<<<================ Done rolling season 2024-25\n",
      "================> starting adding odds for sns 2024-25\n",
      "starting to merge files for 2024-25\n",
      "517\n",
      "0     10.0\n",
      "1     10.0\n",
      "2     10.0\n",
      "3     10.0\n",
      "4     10.0\n",
      "      ... \n",
      "22    99.0\n",
      "23    99.0\n",
      "24    99.0\n",
      "25    99.0\n",
      "26    99.0\n",
      "Name: fpl_id, Length: 8183, dtype: float64\n"
     ]
    }
   ],
   "source": [
    "merge_fpl_understat_data_24_25(\"./data/2024-25/players/\", \"./data/2024-25/understat/\", \"24-25\")\n",
    "add_difficulty('24-25')\n",
    "add_xP('24-25', 26)\n",
    "add_rolling_avgs('24-25')\n",
    "odds('24-25',26)\n",
    "merge_files('24-25')"
   ]
  },
  {
   "cell_type": "code",
   "execution_count": 48,
   "metadata": {},
   "outputs": [
    {
     "data": {
      "text/html": [
       "<div>\n",
       "<style scoped>\n",
       "    .dataframe tbody tr th:only-of-type {\n",
       "        vertical-align: middle;\n",
       "    }\n",
       "\n",
       "    .dataframe tbody tr th {\n",
       "        vertical-align: top;\n",
       "    }\n",
       "\n",
       "    .dataframe thead th {\n",
       "        text-align: right;\n",
       "    }\n",
       "</style>\n",
       "<table border=\"1\" class=\"dataframe\">\n",
       "  <thead>\n",
       "    <tr style=\"text-align: right;\">\n",
       "      <th></th>\n",
       "      <th>assists_x</th>\n",
       "      <th>bonus</th>\n",
       "      <th>bps</th>\n",
       "      <th>clean_sheets</th>\n",
       "      <th>creativity</th>\n",
       "      <th>element</th>\n",
       "      <th>expected_assists</th>\n",
       "      <th>expected_goal_involvements</th>\n",
       "      <th>expected_goals</th>\n",
       "      <th>expected_goals_conceded</th>\n",
       "      <th>...</th>\n",
       "      <th>npg_5</th>\n",
       "      <th>npxG_5</th>\n",
       "      <th>xGChain_5</th>\n",
       "      <th>xGBuildup_5</th>\n",
       "      <th>xP_5</th>\n",
       "      <th>selected_5</th>\n",
       "      <th>pts_bps</th>\n",
       "      <th>whh</th>\n",
       "      <th>whd</th>\n",
       "      <th>wha</th>\n",
       "    </tr>\n",
       "  </thead>\n",
       "  <tbody>\n",
       "    <tr>\n",
       "      <th>0</th>\n",
       "      <td>0.0</td>\n",
       "      <td>0.0</td>\n",
       "      <td>3.0</td>\n",
       "      <td>0.0</td>\n",
       "      <td>0.0</td>\n",
       "      <td>10.0</td>\n",
       "      <td>0.00</td>\n",
       "      <td>0.00</td>\n",
       "      <td>0.00</td>\n",
       "      <td>0.02</td>\n",
       "      <td>...</td>\n",
       "      <td>0.0</td>\n",
       "      <td>0.00</td>\n",
       "      <td>0.00</td>\n",
       "      <td>0.00</td>\n",
       "      <td>0.0</td>\n",
       "      <td>0.0</td>\n",
       "      <td>1.0</td>\n",
       "      <td>0.221</td>\n",
       "      <td>0.246</td>\n",
       "      <td>0.533</td>\n",
       "    </tr>\n",
       "    <tr>\n",
       "      <th>1</th>\n",
       "      <td>0.0</td>\n",
       "      <td>0.0</td>\n",
       "      <td>2.0</td>\n",
       "      <td>0.0</td>\n",
       "      <td>1.7</td>\n",
       "      <td>10.0</td>\n",
       "      <td>0.01</td>\n",
       "      <td>0.09</td>\n",
       "      <td>0.08</td>\n",
       "      <td>0.33</td>\n",
       "      <td>...</td>\n",
       "      <td>0.0</td>\n",
       "      <td>0.00</td>\n",
       "      <td>0.00</td>\n",
       "      <td>0.00</td>\n",
       "      <td>1.5</td>\n",
       "      <td>4193.0</td>\n",
       "      <td>0.0</td>\n",
       "      <td>0.384</td>\n",
       "      <td>0.282</td>\n",
       "      <td>0.333</td>\n",
       "    </tr>\n",
       "    <tr>\n",
       "      <th>2</th>\n",
       "      <td>0.0</td>\n",
       "      <td>1.0</td>\n",
       "      <td>27.0</td>\n",
       "      <td>0.0</td>\n",
       "      <td>12.0</td>\n",
       "      <td>10.0</td>\n",
       "      <td>0.05</td>\n",
       "      <td>0.36</td>\n",
       "      <td>0.31</td>\n",
       "      <td>0.30</td>\n",
       "      <td>...</td>\n",
       "      <td>0.0</td>\n",
       "      <td>0.15</td>\n",
       "      <td>0.72</td>\n",
       "      <td>0.57</td>\n",
       "      <td>1.7</td>\n",
       "      <td>10954.0</td>\n",
       "      <td>6.0</td>\n",
       "      <td>0.333</td>\n",
       "      <td>0.282</td>\n",
       "      <td>0.384</td>\n",
       "    </tr>\n",
       "    <tr>\n",
       "      <th>3</th>\n",
       "      <td>0.0</td>\n",
       "      <td>0.0</td>\n",
       "      <td>3.0</td>\n",
       "      <td>0.0</td>\n",
       "      <td>1.1</td>\n",
       "      <td>10.0</td>\n",
       "      <td>0.01</td>\n",
       "      <td>0.03</td>\n",
       "      <td>0.02</td>\n",
       "      <td>0.16</td>\n",
       "      <td>...</td>\n",
       "      <td>1.0</td>\n",
       "      <td>0.55</td>\n",
       "      <td>1.20</td>\n",
       "      <td>0.57</td>\n",
       "      <td>3.2</td>\n",
       "      <td>17921.0</td>\n",
       "      <td>1.0</td>\n",
       "      <td>0.402</td>\n",
       "      <td>0.290</td>\n",
       "      <td>0.308</td>\n",
       "    </tr>\n",
       "    <tr>\n",
       "      <th>4</th>\n",
       "      <td>1.0</td>\n",
       "      <td>0.0</td>\n",
       "      <td>15.0</td>\n",
       "      <td>0.0</td>\n",
       "      <td>11.5</td>\n",
       "      <td>10.0</td>\n",
       "      <td>0.17</td>\n",
       "      <td>0.17</td>\n",
       "      <td>0.00</td>\n",
       "      <td>0.23</td>\n",
       "      <td>...</td>\n",
       "      <td>1.0</td>\n",
       "      <td>0.55</td>\n",
       "      <td>1.25</td>\n",
       "      <td>0.62</td>\n",
       "      <td>5.9</td>\n",
       "      <td>28527.0</td>\n",
       "      <td>4.0</td>\n",
       "      <td>0.762</td>\n",
       "      <td>0.159</td>\n",
       "      <td>0.079</td>\n",
       "    </tr>\n",
       "    <tr>\n",
       "      <th>...</th>\n",
       "      <td>...</td>\n",
       "      <td>...</td>\n",
       "      <td>...</td>\n",
       "      <td>...</td>\n",
       "      <td>...</td>\n",
       "      <td>...</td>\n",
       "      <td>...</td>\n",
       "      <td>...</td>\n",
       "      <td>...</td>\n",
       "      <td>...</td>\n",
       "      <td>...</td>\n",
       "      <td>...</td>\n",
       "      <td>...</td>\n",
       "      <td>...</td>\n",
       "      <td>...</td>\n",
       "      <td>...</td>\n",
       "      <td>...</td>\n",
       "      <td>...</td>\n",
       "      <td>...</td>\n",
       "      <td>...</td>\n",
       "      <td>...</td>\n",
       "    </tr>\n",
       "    <tr>\n",
       "      <th>8178</th>\n",
       "      <td>0.0</td>\n",
       "      <td>0.0</td>\n",
       "      <td>24.0</td>\n",
       "      <td>0.0</td>\n",
       "      <td>16.7</td>\n",
       "      <td>99.0</td>\n",
       "      <td>0.03</td>\n",
       "      <td>1.16</td>\n",
       "      <td>1.13</td>\n",
       "      <td>1.08</td>\n",
       "      <td>...</td>\n",
       "      <td>2.0</td>\n",
       "      <td>1.44</td>\n",
       "      <td>5.51</td>\n",
       "      <td>1.98</td>\n",
       "      <td>25.3</td>\n",
       "      <td>16957336.0</td>\n",
       "      <td>7.0</td>\n",
       "      <td>0.464</td>\n",
       "      <td>0.264</td>\n",
       "      <td>0.272</td>\n",
       "    </tr>\n",
       "    <tr>\n",
       "      <th>8179</th>\n",
       "      <td>0.0</td>\n",
       "      <td>0.0</td>\n",
       "      <td>12.0</td>\n",
       "      <td>0.0</td>\n",
       "      <td>22.8</td>\n",
       "      <td>99.0</td>\n",
       "      <td>0.37</td>\n",
       "      <td>0.59</td>\n",
       "      <td>0.22</td>\n",
       "      <td>0.86</td>\n",
       "      <td>...</td>\n",
       "      <td>2.0</td>\n",
       "      <td>2.17</td>\n",
       "      <td>6.09</td>\n",
       "      <td>2.01</td>\n",
       "      <td>27.5</td>\n",
       "      <td>17470889.0</td>\n",
       "      <td>2.0</td>\n",
       "      <td>0.449</td>\n",
       "      <td>0.236</td>\n",
       "      <td>0.315</td>\n",
       "    </tr>\n",
       "    <tr>\n",
       "      <th>8180</th>\n",
       "      <td>0.0</td>\n",
       "      <td>0.0</td>\n",
       "      <td>19.0</td>\n",
       "      <td>1.0</td>\n",
       "      <td>38.3</td>\n",
       "      <td>99.0</td>\n",
       "      <td>0.25</td>\n",
       "      <td>0.67</td>\n",
       "      <td>0.42</td>\n",
       "      <td>0.82</td>\n",
       "      <td>...</td>\n",
       "      <td>1.0</td>\n",
       "      <td>2.26</td>\n",
       "      <td>6.43</td>\n",
       "      <td>2.21</td>\n",
       "      <td>25.2</td>\n",
       "      <td>18297047.0</td>\n",
       "      <td>3.0</td>\n",
       "      <td>0.393</td>\n",
       "      <td>0.270</td>\n",
       "      <td>0.337</td>\n",
       "    </tr>\n",
       "    <tr>\n",
       "      <th>8181</th>\n",
       "      <td>0.0</td>\n",
       "      <td>0.0</td>\n",
       "      <td>19.0</td>\n",
       "      <td>1.0</td>\n",
       "      <td>38.3</td>\n",
       "      <td>99.0</td>\n",
       "      <td>0.25</td>\n",
       "      <td>0.67</td>\n",
       "      <td>0.42</td>\n",
       "      <td>0.82</td>\n",
       "      <td>...</td>\n",
       "      <td>1.0</td>\n",
       "      <td>2.26</td>\n",
       "      <td>6.43</td>\n",
       "      <td>2.21</td>\n",
       "      <td>25.2</td>\n",
       "      <td>18297047.0</td>\n",
       "      <td>3.0</td>\n",
       "      <td>0.393</td>\n",
       "      <td>0.270</td>\n",
       "      <td>0.337</td>\n",
       "    </tr>\n",
       "    <tr>\n",
       "      <th>8182</th>\n",
       "      <td>NaN</td>\n",
       "      <td>NaN</td>\n",
       "      <td>NaN</td>\n",
       "      <td>NaN</td>\n",
       "      <td>NaN</td>\n",
       "      <td>NaN</td>\n",
       "      <td>NaN</td>\n",
       "      <td>NaN</td>\n",
       "      <td>NaN</td>\n",
       "      <td>NaN</td>\n",
       "      <td>...</td>\n",
       "      <td>0.0</td>\n",
       "      <td>2.04</td>\n",
       "      <td>4.52</td>\n",
       "      <td>1.24</td>\n",
       "      <td>20.7</td>\n",
       "      <td>18806527.0</td>\n",
       "      <td>NaN</td>\n",
       "      <td>0.278</td>\n",
       "      <td>0.249</td>\n",
       "      <td>0.473</td>\n",
       "    </tr>\n",
       "  </tbody>\n",
       "</table>\n",
       "<p>8183 rows × 142 columns</p>\n",
       "</div>"
      ],
      "text/plain": [
       "      assists_x  bonus   bps  clean_sheets  creativity  element  \\\n",
       "0           0.0    0.0   3.0           0.0         0.0     10.0   \n",
       "1           0.0    0.0   2.0           0.0         1.7     10.0   \n",
       "2           0.0    1.0  27.0           0.0        12.0     10.0   \n",
       "3           0.0    0.0   3.0           0.0         1.1     10.0   \n",
       "4           1.0    0.0  15.0           0.0        11.5     10.0   \n",
       "...         ...    ...   ...           ...         ...      ...   \n",
       "8178        0.0    0.0  24.0           0.0        16.7     99.0   \n",
       "8179        0.0    0.0  12.0           0.0        22.8     99.0   \n",
       "8180        0.0    0.0  19.0           1.0        38.3     99.0   \n",
       "8181        0.0    0.0  19.0           1.0        38.3     99.0   \n",
       "8182        NaN    NaN   NaN           NaN         NaN      NaN   \n",
       "\n",
       "      expected_assists  expected_goal_involvements  expected_goals  \\\n",
       "0                 0.00                        0.00            0.00   \n",
       "1                 0.01                        0.09            0.08   \n",
       "2                 0.05                        0.36            0.31   \n",
       "3                 0.01                        0.03            0.02   \n",
       "4                 0.17                        0.17            0.00   \n",
       "...                ...                         ...             ...   \n",
       "8178              0.03                        1.16            1.13   \n",
       "8179              0.37                        0.59            0.22   \n",
       "8180              0.25                        0.67            0.42   \n",
       "8181              0.25                        0.67            0.42   \n",
       "8182               NaN                         NaN             NaN   \n",
       "\n",
       "      expected_goals_conceded  ...  npg_5  npxG_5  xGChain_5  xGBuildup_5  \\\n",
       "0                        0.02  ...    0.0    0.00       0.00         0.00   \n",
       "1                        0.33  ...    0.0    0.00       0.00         0.00   \n",
       "2                        0.30  ...    0.0    0.15       0.72         0.57   \n",
       "3                        0.16  ...    1.0    0.55       1.20         0.57   \n",
       "4                        0.23  ...    1.0    0.55       1.25         0.62   \n",
       "...                       ...  ...    ...     ...        ...          ...   \n",
       "8178                     1.08  ...    2.0    1.44       5.51         1.98   \n",
       "8179                     0.86  ...    2.0    2.17       6.09         2.01   \n",
       "8180                     0.82  ...    1.0    2.26       6.43         2.21   \n",
       "8181                     0.82  ...    1.0    2.26       6.43         2.21   \n",
       "8182                      NaN  ...    0.0    2.04       4.52         1.24   \n",
       "\n",
       "      xP_5  selected_5  pts_bps    whh    whd    wha  \n",
       "0      0.0         0.0      1.0  0.221  0.246  0.533  \n",
       "1      1.5      4193.0      0.0  0.384  0.282  0.333  \n",
       "2      1.7     10954.0      6.0  0.333  0.282  0.384  \n",
       "3      3.2     17921.0      1.0  0.402  0.290  0.308  \n",
       "4      5.9     28527.0      4.0  0.762  0.159  0.079  \n",
       "...    ...         ...      ...    ...    ...    ...  \n",
       "8178  25.3  16957336.0      7.0  0.464  0.264  0.272  \n",
       "8179  27.5  17470889.0      2.0  0.449  0.236  0.315  \n",
       "8180  25.2  18297047.0      3.0  0.393  0.270  0.337  \n",
       "8181  25.2  18297047.0      3.0  0.393  0.270  0.337  \n",
       "8182  20.7  18806527.0      NaN  0.278  0.249  0.473  \n",
       "\n",
       "[8183 rows x 142 columns]"
      ]
     },
     "execution_count": 48,
     "metadata": {},
     "output_type": "execute_result"
    }
   ],
   "source": [
    "c = pd.read_csv('./data/joint/24-25/merged_player_data.csv')\n",
    "# c[c['whh'].isnull()]\n",
    "c"
   ]
  }
 ],
 "metadata": {
  "kernelspec": {
   "display_name": "base",
   "language": "python",
   "name": "python3"
  },
  "language_info": {
   "codemirror_mode": {
    "name": "ipython",
    "version": 3
   },
   "file_extension": ".py",
   "mimetype": "text/x-python",
   "name": "python",
   "nbconvert_exporter": "python",
   "pygments_lexer": "ipython3",
   "version": "3.12.7"
  }
 },
 "nbformat": 4,
 "nbformat_minor": 2
}
