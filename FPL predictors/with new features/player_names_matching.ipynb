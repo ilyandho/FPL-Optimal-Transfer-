{
 "cells": [
  {
   "cell_type": "code",
   "execution_count": 72,
   "metadata": {},
   "outputs": [],
   "source": [
    "import pandas as pd\n",
    "import os\n",
    "import unicodedata"
   ]
  },
  {
   "cell_type": "markdown",
   "metadata": {},
   "source": [
    "## 2022-23\n"
   ]
  },
  {
   "cell_type": "code",
   "execution_count": 56,
   "metadata": {},
   "outputs": [],
   "source": [
    "# Understat_ID,FPL_ID,Understat_Name,FPL_Name\n",
    "\n",
    "path = './data/2023-24/understat/'\n",
    "\n",
    "under_player_names = next(os.walk((path), (None, None, [])))[2]\n",
    "\n",
    "understat_names = []\n",
    "\n",
    "for player in under_player_names:\n",
    "    splits = player.split('_')\n",
    "    under_id = splits[-1].split('.')[0]\n",
    "    under_name = ' '.join(splits[:-1])\n",
    "\n",
    "    understat_names.append({'Understat_ID': under_id, 'Understat_Name': under_name})\n",
    "\n",
    "pd.DataFrame(understat_names).to_csv('./data/under_names_23_24.csv', index_label=False)"
   ]
  },
  {
   "cell_type": "code",
   "execution_count": 57,
   "metadata": {},
   "outputs": [],
   "source": [
    "# print('====> Starting to add difficulty features to 20'+season)\n",
    "\n",
    "# Understat_ID,FPL_ID,Understat_Name,FPL_Name\n",
    "\n",
    "path = './data/2023-24/players/'\n",
    "\n",
    "# player_names = next(os.walk((path), (None, None, [])))[2]\n",
    "fpl_player_names = [ f.path.split('/')[-1] for f in os.scandir(path) if f.is_dir() ]\n",
    "\n",
    "\n",
    "fpl_names = []\n",
    "\n",
    "for player in fpl_player_names:\n",
    "    splits = player.split('_')\n",
    "    fpl_id = splits[-1].split('.')[0]\n",
    "    fpl_name = ' '.join(splits[:-1])\n",
    "\n",
    "    fpl_names.append({'FPL_ID': fpl_id, 'FPL_Name': fpl_name})\n",
    "\n",
    "pd.DataFrame(fpl_names).to_csv('./data/fpl_names_23_24.csv', index_label=False)"
   ]
  },
  {
   "cell_type": "markdown",
   "metadata": {},
   "source": [
    "## 2023-24\n"
   ]
  },
  {
   "cell_type": "code",
   "execution_count": 58,
   "metadata": {},
   "outputs": [],
   "source": [
    "# Understat_ID,FPL_ID,Understat_Name,FPL_Name\n",
    "\n",
    "path = './data/2022-23/understat/'\n",
    "\n",
    "under_player_names = next(os.walk((path), (None, None, [])))[2]\n",
    "\n",
    "understat_names = []\n",
    "\n",
    "for player in under_player_names:\n",
    "    splits = player.split('_')\n",
    "    under_id = splits[-1].split('.')[0]\n",
    "    under_name = ' '.join(splits[:-1])\n",
    "\n",
    "    understat_names.append({'Understat_ID': under_id, 'Understat_Name': under_name})\n",
    "\n",
    "pd.DataFrame(understat_names).to_csv('./data/under_names_22_23.csv', index_label=False)"
   ]
  },
  {
   "cell_type": "code",
   "execution_count": 59,
   "metadata": {},
   "outputs": [],
   "source": [
    "# print('====> Starting to add difficulty features to 20'+season)\n",
    "\n",
    "# Understat_ID,FPL_ID,Understat_Name,FPL_Name\n",
    "path = './data/2022-23/players/'\n",
    "\n",
    "# player_names = next(os.walk((path), (None, None, [])))[2]\n",
    "fpl_player_names = [ f.path.split('/')[-1] for f in os.scandir(path) if f.is_dir() ]\n",
    "\n",
    "\n",
    "fpl_names = []\n",
    "\n",
    "for player in fpl_player_names:\n",
    "    splits = player.split('_')\n",
    "    fpl_id = splits[-1].split('.')[0]\n",
    "    fpl_name = ' '.join(splits[:-1])\n",
    "\n",
    "    fpl_names.append({'FPL_ID': fpl_id, 'FPL_Name': fpl_name})\n",
    "\n",
    "pd.DataFrame(fpl_names).to_csv('./data/fpl_names_22_23.csv',index_label=False)"
   ]
  },
  {
   "cell_type": "markdown",
   "metadata": {},
   "source": [
    "## 2024-25\n"
   ]
  },
  {
   "cell_type": "code",
   "execution_count": 60,
   "metadata": {},
   "outputs": [],
   "source": [
    "# Understat_ID,FPL_ID,Understat_Name,FPL_Name\n",
    "\n",
    "path = './data/2024-25/understat/'\n",
    "\n",
    "under_player_names = next(os.walk((path), (None, None, [])))[2]\n",
    "\n",
    "understat_names = []\n",
    "\n",
    "for player in under_player_names:\n",
    "    splits = player.split('_')\n",
    "    under_id = splits[-1].split('.')[0]\n",
    "    under_name = ' '.join(splits[:-1])\n",
    "\n",
    "    understat_names.append({'Understat_ID': under_id, 'Understat_Name': under_name})\n",
    "\n",
    "pd.DataFrame(understat_names).to_csv('./data/under_names_24_25.csv', index_label=False)\n",
    "\n"
   ]
  },
  {
   "cell_type": "code",
   "execution_count": 61,
   "metadata": {},
   "outputs": [],
   "source": [
    "# print('====> Starting to add difficulty features to 20'+season)\n",
    "\n",
    "# Understat_ID,FPL_ID,Understat_Name,FPL_Name\n",
    "\n",
    "path = './data/2024-25/players/'\n",
    "\n",
    "# player_names = next(os.walk((path), (None, None, [])))[2]\n",
    "fpl_player_names = [ f.path.split('/')[-1] for f in os.scandir(path) if f.is_dir() ]\n",
    "\n",
    "fpl_names = []\n",
    "\n",
    "for player in fpl_player_names:\n",
    "    splits = player.split('_')\n",
    "    fpl_id = splits[-1].split('.')[0]\n",
    "    fpl_name = ' '.join(splits[:-1])\n",
    "\n",
    "    fpl_names.append({'FPL_ID': fpl_id, 'FPL_Name': fpl_name})\n",
    "\n",
    "pd.DataFrame(fpl_names).to_csv('./data/fpl_names_24_25.csv')\n"
   ]
  },
  {
   "cell_type": "markdown",
   "metadata": {},
   "source": [
    "## Merge\n"
   ]
  },
  {
   "cell_type": "markdown",
   "metadata": {},
   "source": [
    "### 2022_23\n"
   ]
  },
  {
   "cell_type": "code",
   "execution_count": 139,
   "metadata": {},
   "outputs": [],
   "source": [
    "fpl_22_23 = pd.read_csv('./data/fpl_names_22_23.csv')\n",
    "under_22_23 = pd.read_csv('./data/under_names_22_23.csv')\n",
    "\n",
    "def add_under(row):\n",
    "    for player in under_22_23:\n",
    "        if not under_22_23[under_22_23['Understat_Name'] == row['FPL_Name']].empty:\n",
    "            Understat_Name = under_22_23[under_22_23['Understat_Name'] == row['FPL_Name']].iloc[0,1]\n",
    "            Understat_ID = under_22_23[under_22_23['Understat_Name'] == row['FPL_Name']].iloc[0,0]\n",
    "\n",
    "            return pd.Series([Understat_ID, Understat_Name])\n",
    "        else:\n",
    "            return pd.Series([None, None])\n",
    "\n",
    "fpl_22_23[['Understat_ID', 'Understat_Name']] = fpl_22_23.apply(add_under, axis=1)\n",
    "\n",
    "fpl_22_23.to_csv('./data/merged_names_22_23.csv_', index_label=False)"
   ]
  },
  {
   "cell_type": "code",
   "execution_count": null,
   "metadata": {},
   "outputs": [],
   "source": [
    "da_22_23 = pd.read_csv('./data/merged_names_22_23.csv')\n",
    "da_22_23"
   ]
  },
  {
   "cell_type": "code",
   "execution_count": null,
   "metadata": {},
   "outputs": [],
   "source": [
    "bool_series = pd.isnull(da_22_23[\"Understat_Name\"])\n",
    "missing_names = da_22_23[bool_series]\n",
    "\n",
    "missing_names.to_csv('./data/missing_names_22_23.csv_')"
   ]
  },
  {
   "cell_type": "code",
   "execution_count": 179,
   "metadata": {},
   "outputs": [
    {
     "name": "stdout",
     "output_type": "stream",
     "text": [
      "(110, 6) (434, 5)\n"
     ]
    }
   ],
   "source": [
    "added = pd.read_csv('./data/missing_names_22_23.csv')\n",
    "added_names = added[pd.notnull(added['Understat_Name'])]\n",
    "\n",
    "original_names =da_22_23[pd.notnull(da_22_23['Understat_Name'])]\n",
    "\n",
    "print(added_names.shape, original_names.shape)"
   ]
  },
  {
   "cell_type": "code",
   "execution_count": null,
   "metadata": {},
   "outputs": [],
   "source": [
    "player_id_dict = pd.concat([original_names, added_names])[['FPL_ID', 'FPL_Name', 'Understat_ID', 'Understat_Name']]"
   ]
  },
  {
   "cell_type": "code",
   "execution_count": null,
   "metadata": {},
   "outputs": [],
   "source": [
    "player_id_dict.to_csv('./data/id_dict_22_23.csv_', index_label=False)"
   ]
  },
  {
   "cell_type": "markdown",
   "metadata": {},
   "source": [
    "### 2023-24\n"
   ]
  },
  {
   "cell_type": "code",
   "execution_count": 166,
   "metadata": {},
   "outputs": [],
   "source": [
    "\n",
    "fpl_23_24 = pd.read_csv('./data/fpl_names_23_24.csv')\n",
    "under_23_24 = pd.read_csv('./data/under_names_23_24.csv')\n",
    "\n",
    "def add_under(row):\n",
    "    for player in under_23_24:\n",
    "        if not under_23_24[under_23_24['Understat_Name'] == row['FPL_Name']].empty:\n",
    "            Understat_Name = under_23_24[under_23_24['Understat_Name'] == row['FPL_Name']].iloc[0,1]\n",
    "            Understat_ID = under_23_24[under_23_24['Understat_Name'] == row['FPL_Name']].iloc[0,0]\n",
    "\n",
    "            return pd.Series([Understat_ID, Understat_Name])\n",
    "        else:\n",
    "            return pd.Series([None, None])\n",
    "\n",
    "fpl_23_24[['Understat_ID', 'Understat_Name']] = fpl_23_24.apply(add_under, axis=1)\n",
    "\n",
    "fpl_23_24.to_csv('./data/merged_names_23_24.csv_')"
   ]
  },
  {
   "cell_type": "code",
   "execution_count": 167,
   "metadata": {},
   "outputs": [
    {
     "data": {
      "text/html": [
       "<div>\n",
       "<style scoped>\n",
       "    .dataframe tbody tr th:only-of-type {\n",
       "        vertical-align: middle;\n",
       "    }\n",
       "\n",
       "    .dataframe tbody tr th {\n",
       "        vertical-align: top;\n",
       "    }\n",
       "\n",
       "    .dataframe thead th {\n",
       "        text-align: right;\n",
       "    }\n",
       "</style>\n",
       "<table border=\"1\" class=\"dataframe\">\n",
       "  <thead>\n",
       "    <tr style=\"text-align: right;\">\n",
       "      <th></th>\n",
       "      <th>Unnamed: 0</th>\n",
       "      <th>FPL_ID</th>\n",
       "      <th>FPL_Name</th>\n",
       "      <th>Understat_ID</th>\n",
       "      <th>Understat_Name</th>\n",
       "    </tr>\n",
       "  </thead>\n",
       "  <tbody>\n",
       "    <tr>\n",
       "      <th>0</th>\n",
       "      <td>0</td>\n",
       "      <td>127</td>\n",
       "      <td>Aaron Connolly</td>\n",
       "      <td>NaN</td>\n",
       "      <td>NaN</td>\n",
       "    </tr>\n",
       "    <tr>\n",
       "      <th>1</th>\n",
       "      <td>1</td>\n",
       "      <td>530</td>\n",
       "      <td>Aaron Cresswell</td>\n",
       "      <td>534.0</td>\n",
       "      <td>Aaron Cresswell</td>\n",
       "    </tr>\n",
       "    <tr>\n",
       "      <th>2</th>\n",
       "      <td>2</td>\n",
       "      <td>104</td>\n",
       "      <td>Aaron Hickey</td>\n",
       "      <td>8942.0</td>\n",
       "      <td>Aaron Hickey</td>\n",
       "    </tr>\n",
       "    <tr>\n",
       "      <th>3</th>\n",
       "      <td>3</td>\n",
       "      <td>17</td>\n",
       "      <td>Aaron Ramsdale</td>\n",
       "      <td>5603.0</td>\n",
       "      <td>Aaron Ramsdale</td>\n",
       "    </tr>\n",
       "    <tr>\n",
       "      <th>4</th>\n",
       "      <td>4</td>\n",
       "      <td>675</td>\n",
       "      <td>Aaron Ramsey</td>\n",
       "      <td>9913.0</td>\n",
       "      <td>Aaron Ramsey</td>\n",
       "    </tr>\n",
       "    <tr>\n",
       "      <th>...</th>\n",
       "      <td>...</td>\n",
       "      <td>...</td>\n",
       "      <td>...</td>\n",
       "      <td>...</td>\n",
       "      <td>...</td>\n",
       "    </tr>\n",
       "    <tr>\n",
       "      <th>864</th>\n",
       "      <td>864</td>\n",
       "      <td>859</td>\n",
       "      <td>Zak Sturge</td>\n",
       "      <td>NaN</td>\n",
       "      <td>NaN</td>\n",
       "    </tr>\n",
       "    <tr>\n",
       "      <th>865</th>\n",
       "      <td>865</td>\n",
       "      <td>594</td>\n",
       "      <td>Zeki Amdouni</td>\n",
       "      <td>11701.0</td>\n",
       "      <td>Zeki Amdouni</td>\n",
       "    </tr>\n",
       "    <tr>\n",
       "      <th>866</th>\n",
       "      <td>866</td>\n",
       "      <td>380</td>\n",
       "      <td>Álvaro Fernández Carreras</td>\n",
       "      <td>NaN</td>\n",
       "      <td>NaN</td>\n",
       "    </tr>\n",
       "    <tr>\n",
       "      <th>867</th>\n",
       "      <td>867</td>\n",
       "      <td>589</td>\n",
       "      <td>Ângelo Gabriel Borges Damaceno</td>\n",
       "      <td>NaN</td>\n",
       "      <td>NaN</td>\n",
       "    </tr>\n",
       "    <tr>\n",
       "      <th>868</th>\n",
       "      <td>868</td>\n",
       "      <td>687</td>\n",
       "      <td>Đorđe Petrović</td>\n",
       "      <td>NaN</td>\n",
       "      <td>NaN</td>\n",
       "    </tr>\n",
       "  </tbody>\n",
       "</table>\n",
       "<p>869 rows × 5 columns</p>\n",
       "</div>"
      ],
      "text/plain": [
       "     Unnamed: 0  FPL_ID                        FPL_Name  Understat_ID  \\\n",
       "0             0     127                  Aaron Connolly           NaN   \n",
       "1             1     530                 Aaron Cresswell         534.0   \n",
       "2             2     104                    Aaron Hickey        8942.0   \n",
       "3             3      17                  Aaron Ramsdale        5603.0   \n",
       "4             4     675                    Aaron Ramsey        9913.0   \n",
       "..          ...     ...                             ...           ...   \n",
       "864         864     859                      Zak Sturge           NaN   \n",
       "865         865     594                    Zeki Amdouni       11701.0   \n",
       "866         866     380       Álvaro Fernández Carreras           NaN   \n",
       "867         867     589  Ângelo Gabriel Borges Damaceno           NaN   \n",
       "868         868     687                  Đorđe Petrović           NaN   \n",
       "\n",
       "      Understat_Name  \n",
       "0                NaN  \n",
       "1    Aaron Cresswell  \n",
       "2       Aaron Hickey  \n",
       "3     Aaron Ramsdale  \n",
       "4       Aaron Ramsey  \n",
       "..               ...  \n",
       "864              NaN  \n",
       "865     Zeki Amdouni  \n",
       "866              NaN  \n",
       "867              NaN  \n",
       "868              NaN  \n",
       "\n",
       "[869 rows x 5 columns]"
      ]
     },
     "execution_count": 167,
     "metadata": {},
     "output_type": "execute_result"
    }
   ],
   "source": [
    "da_23_24 = pd.read_csv('./data/merged_names_23_24.csv')\n",
    "da_23_24"
   ]
  },
  {
   "cell_type": "code",
   "execution_count": 168,
   "metadata": {},
   "outputs": [],
   "source": [
    "\n",
    "bool_series_23_24 = pd.isnull(da_23_24[\"Understat_Name\"])\n",
    "missing_names = da_23_24[bool_series_23_24]\n",
    "\n",
    "missing_names.to_csv('./data/missing_names_23_24.csv_')"
   ]
  },
  {
   "cell_type": "code",
   "execution_count": 172,
   "metadata": {},
   "outputs": [
    {
     "name": "stdout",
     "output_type": "stream",
     "text": [
      "(116, 6) (497, 5)\n"
     ]
    }
   ],
   "source": [
    "added = pd.read_csv('./data/missing_names_23_24.csv')\n",
    "added_names = added[pd.notnull(added['Understat_Name'])]\n",
    "\n",
    "original_names =da_23_24[pd.notnull(da_23_24['Understat_Name'])]\n",
    "\n",
    "print(added_names.shape, original_names.shape)"
   ]
  },
  {
   "cell_type": "code",
   "execution_count": 173,
   "metadata": {},
   "outputs": [],
   "source": [
    "player_id_dict = pd.concat([original_names, added_names])[['FPL_ID', 'FPL_Name', 'Understat_ID', 'Understat_Name']]"
   ]
  },
  {
   "cell_type": "code",
   "execution_count": 174,
   "metadata": {},
   "outputs": [],
   "source": [
    "player_id_dict.to_csv('./data/id_dict_23_24.csv_', index_label=False)"
   ]
  },
  {
   "cell_type": "markdown",
   "metadata": {},
   "source": [
    "### 2024-25\n"
   ]
  },
  {
   "cell_type": "code",
   "execution_count": 175,
   "metadata": {},
   "outputs": [],
   "source": [
    "\n",
    "fpl_24_25 = pd.read_csv('./data/fpl_names_24_25.csv')\n",
    "under_24_25 = pd.read_csv('./data/under_names_24_25.csv')\n",
    "\n",
    "def add_under(row):\n",
    "    for player in under_24_25:\n",
    "        if not under_24_25[under_24_25['Understat_Name'] == row['FPL_Name']].empty:\n",
    "            Understat_Name = under_24_25[under_24_25['Understat_Name'] == row['FPL_Name']].iloc[0,1]\n",
    "            Understat_ID = under_24_25[under_24_25['Understat_Name'] == row['FPL_Name']].iloc[0,0]\n",
    "\n",
    "            return pd.Series([Understat_ID, Understat_Name])\n",
    "        else:\n",
    "            return pd.Series([None, None])\n",
    "\n",
    "fpl_24_25[['Understat_ID', 'Understat_Name']] = fpl_24_25.apply(add_under, axis=1)\n",
    "\n",
    "fpl_24_25.to_csv('./data/merged_names_24_25.csv_')"
   ]
  },
  {
   "cell_type": "code",
   "execution_count": 176,
   "metadata": {},
   "outputs": [
    {
     "data": {
      "text/html": [
       "<div>\n",
       "<style scoped>\n",
       "    .dataframe tbody tr th:only-of-type {\n",
       "        vertical-align: middle;\n",
       "    }\n",
       "\n",
       "    .dataframe tbody tr th {\n",
       "        vertical-align: top;\n",
       "    }\n",
       "\n",
       "    .dataframe thead th {\n",
       "        text-align: right;\n",
       "    }\n",
       "</style>\n",
       "<table border=\"1\" class=\"dataframe\">\n",
       "  <thead>\n",
       "    <tr style=\"text-align: right;\">\n",
       "      <th></th>\n",
       "      <th>Unnamed: 0</th>\n",
       "      <th>FPL_ID</th>\n",
       "      <th>FPL_Name</th>\n",
       "      <th>Understat_ID</th>\n",
       "      <th>Understat_Name</th>\n",
       "    </tr>\n",
       "  </thead>\n",
       "  <tbody>\n",
       "    <tr>\n",
       "      <th>0</th>\n",
       "      <td>0</td>\n",
       "      <td>517</td>\n",
       "      <td>Aaron Cresswell</td>\n",
       "      <td>534.0</td>\n",
       "      <td>Aaron Cresswell</td>\n",
       "    </tr>\n",
       "    <tr>\n",
       "      <th>1</th>\n",
       "      <td>1</td>\n",
       "      <td>93</td>\n",
       "      <td>Aaron Hickey</td>\n",
       "      <td>8942.0</td>\n",
       "      <td>Aaron Hickey</td>\n",
       "    </tr>\n",
       "    <tr>\n",
       "      <th>2</th>\n",
       "      <td>2</td>\n",
       "      <td>14</td>\n",
       "      <td>Aaron Ramsdale</td>\n",
       "      <td>5603.0</td>\n",
       "      <td>Aaron Ramsdale</td>\n",
       "    </tr>\n",
       "    <tr>\n",
       "      <th>3</th>\n",
       "      <td>3</td>\n",
       "      <td>388</td>\n",
       "      <td>Aaron Wan-Bissaka</td>\n",
       "      <td>5584.0</td>\n",
       "      <td>Aaron Wan-Bissaka</td>\n",
       "    </tr>\n",
       "    <tr>\n",
       "      <th>4</th>\n",
       "      <td>4</td>\n",
       "      <td>217</td>\n",
       "      <td>Abdoulaye Doucouré</td>\n",
       "      <td>1726.0</td>\n",
       "      <td>Abdoulaye Doucouré</td>\n",
       "    </tr>\n",
       "    <tr>\n",
       "      <th>...</th>\n",
       "      <td>...</td>\n",
       "      <td>...</td>\n",
       "      <td>...</td>\n",
       "      <td>...</td>\n",
       "      <td>...</td>\n",
       "    </tr>\n",
       "    <tr>\n",
       "      <th>704</th>\n",
       "      <td>704</td>\n",
       "      <td>676</td>\n",
       "      <td>Zach Marsh</td>\n",
       "      <td>NaN</td>\n",
       "      <td>NaN</td>\n",
       "    </tr>\n",
       "    <tr>\n",
       "      <th>705</th>\n",
       "      <td>705</td>\n",
       "      <td>26</td>\n",
       "      <td>Álex Moreno Lopera</td>\n",
       "      <td>NaN</td>\n",
       "      <td>NaN</td>\n",
       "    </tr>\n",
       "    <tr>\n",
       "      <th>706</th>\n",
       "      <td>706</td>\n",
       "      <td>151</td>\n",
       "      <td>Ângelo Gabriel Borges Damaceno</td>\n",
       "      <td>NaN</td>\n",
       "      <td>NaN</td>\n",
       "    </tr>\n",
       "    <tr>\n",
       "      <th>707</th>\n",
       "      <td>707</td>\n",
       "      <td>183</td>\n",
       "      <td>Đorđe Petrović</td>\n",
       "      <td>NaN</td>\n",
       "      <td>NaN</td>\n",
       "    </tr>\n",
       "    <tr>\n",
       "      <th>708</th>\n",
       "      <td>708</td>\n",
       "      <td>521</td>\n",
       "      <td>Łukasz Fabiański</td>\n",
       "      <td>NaN</td>\n",
       "      <td>NaN</td>\n",
       "    </tr>\n",
       "  </tbody>\n",
       "</table>\n",
       "<p>709 rows × 5 columns</p>\n",
       "</div>"
      ],
      "text/plain": [
       "     Unnamed: 0  FPL_ID                        FPL_Name  Understat_ID  \\\n",
       "0             0     517                 Aaron Cresswell         534.0   \n",
       "1             1      93                    Aaron Hickey        8942.0   \n",
       "2             2      14                  Aaron Ramsdale        5603.0   \n",
       "3             3     388               Aaron Wan-Bissaka        5584.0   \n",
       "4             4     217              Abdoulaye Doucouré        1726.0   \n",
       "..          ...     ...                             ...           ...   \n",
       "704         704     676                      Zach Marsh           NaN   \n",
       "705         705      26              Álex Moreno Lopera           NaN   \n",
       "706         706     151  Ângelo Gabriel Borges Damaceno           NaN   \n",
       "707         707     183                  Đorđe Petrović           NaN   \n",
       "708         708     521                Łukasz Fabiański           NaN   \n",
       "\n",
       "         Understat_Name  \n",
       "0       Aaron Cresswell  \n",
       "1          Aaron Hickey  \n",
       "2        Aaron Ramsdale  \n",
       "3     Aaron Wan-Bissaka  \n",
       "4    Abdoulaye Doucouré  \n",
       "..                  ...  \n",
       "704                 NaN  \n",
       "705                 NaN  \n",
       "706                 NaN  \n",
       "707                 NaN  \n",
       "708                 NaN  \n",
       "\n",
       "[709 rows x 5 columns]"
      ]
     },
     "execution_count": 176,
     "metadata": {},
     "output_type": "execute_result"
    }
   ],
   "source": [
    "da_24_25 = pd.read_csv('./data/merged_names_24_25.csv')\n",
    "da_24_25"
   ]
  },
  {
   "cell_type": "code",
   "execution_count": 177,
   "metadata": {},
   "outputs": [],
   "source": [
    "\n",
    "bool_series = pd.isnull(da_24_25[\"Understat_Name\"])\n",
    "missing_names = da_24_25[bool_series]\n",
    "\n",
    "missing_names.to_csv('./data/missing_names_24_25.csv_')"
   ]
  },
  {
   "cell_type": "code",
   "execution_count": 184,
   "metadata": {},
   "outputs": [
    {
     "name": "stdout",
     "output_type": "stream",
     "text": [
      "(140, 6) (432, 5)\n"
     ]
    }
   ],
   "source": [
    "added = pd.read_csv('./data/missing_names_24_25.csv')\n",
    "added_names = added[pd.notnull(added['Understat_Name'])]\n",
    "\n",
    "original_names =da_24_25[pd.notnull(da_24_25['Understat_Name'])]\n",
    "\n",
    "print(added_names.shape, original_names.shape)"
   ]
  },
  {
   "cell_type": "code",
   "execution_count": 185,
   "metadata": {},
   "outputs": [],
   "source": [
    "player_id_dict = pd.concat([original_names, added_names])[['FPL_ID', 'FPL_Name', 'Understat_ID', 'Understat_Name']]"
   ]
  },
  {
   "cell_type": "code",
   "execution_count": 186,
   "metadata": {},
   "outputs": [],
   "source": [
    "player_id_dict.to_csv('./data/id_dict_24_25.csv_', index_label=False)"
   ]
  }
 ],
 "metadata": {
  "kernelspec": {
   "display_name": "base",
   "language": "python",
   "name": "python3"
  },
  "language_info": {
   "codemirror_mode": {
    "name": "ipython",
    "version": 3
   },
   "file_extension": ".py",
   "mimetype": "text/x-python",
   "name": "python",
   "nbconvert_exporter": "python",
   "pygments_lexer": "ipython3",
   "version": "3.11.5"
  }
 },
 "nbformat": 4,
 "nbformat_minor": 2
}
