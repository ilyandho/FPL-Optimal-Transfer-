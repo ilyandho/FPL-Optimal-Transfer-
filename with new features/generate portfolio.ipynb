{
 "cells": [
  {
   "cell_type": "code",
   "execution_count": 1,
   "metadata": {},
   "outputs": [],
   "source": [
    "import numpy as np\n",
    "from scipy.stats import dirichlet, multinomial, bernoulli\n",
    "\n",
    "def generate_wo(beta, X, c, B_lb, q, O):\n",
    "    \"\"\"\n",
    "    Generates Wo portfolios based on the given parameters.\n",
    "\n",
    "    Args:\n",
    "        beta (list): Coefficients (βg, ..., βf).\n",
    "        X (list): Features (Xg, ..., Xf).\n",
    "        c: Constraint parameter for portfolio.\n",
    "        B_lb: Lower-bound threshold.\n",
    "        q: Probability for stacking.\n",
    "        O: Number of portfolios.\n",
    "\n",
    "    Returns:\n",
    "        list: Generated portfolios (W_o).\n",
    "    \"\"\"\n",
    "    # Step 1: Compute alpha values\n",
    "    alpha = [np.exp(X[i] @ beta[i]) for i in range(len(beta))]  # Element-wise\n",
    "\n",
    "    # Step 2: Generate probabilities from Dirichlet distribution\n",
    "    p = [dirichlet.rvs(a).flatten() for a in alpha]  # Flatten ensures arrays\n",
    "\n",
    "    # Placeholder for portfolios\n",
    "    portfolios = []\n",
    "\n",
    "    # Step 3: Generate portfolios\n",
    "    for o in range(O):\n",
    "        reject = True  # Start with rejection\n",
    "\n",
    "        while reject:\n",
    "            # Step 4: Sample multinomial distributions\n",
    "            samples = [multinomial.rvs(1, prob).argmax() for prob in p]\n",
    "\n",
    "            # Step 5: Determine stacking\n",
    "            stack = bernoulli.rvs(q)\n",
    "            if stack:\n",
    "                samples[0] = 1  # Example rule: replace km(1) (modify as needed)\n",
    "\n",
    "            # Step 6: Check portfolio constraints\n",
    "            wo = tuple(samples)  # Represent the portfolio as a tuple\n",
    "            constraint_met = (wo in valid_set) and (c(samples) >= B_lb)\n",
    "\n",
    "            if constraint_met:\n",
    "                reject = False\n",
    "                portfolios.append(wo)  # Accept the portfolio\n",
    "\n",
    "    return portfolios\n"
   ]
  }
 ],
 "metadata": {
  "kernelspec": {
   "display_name": "base",
   "language": "python",
   "name": "python3"
  },
  "language_info": {
   "codemirror_mode": {
    "name": "ipython",
    "version": 3
   },
   "file_extension": ".py",
   "mimetype": "text/x-python",
   "name": "python",
   "nbconvert_exporter": "python",
   "pygments_lexer": "ipython3",
   "version": "3.11.5"
  }
 },
 "nbformat": 4,
 "nbformat_minor": 2
}
